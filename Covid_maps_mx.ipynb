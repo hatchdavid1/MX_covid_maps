{
 "cells": [
  {
   "cell_type": "markdown",
   "metadata": {},
   "source": [
    "# Coronavirus distribution maps in MX \n",
    "Source: Government open coronavirus database, INEGI coordenates catalog"
   ]
  },
  {
   "cell_type": "code",
   "execution_count": 2,
   "metadata": {},
   "outputs": [],
   "source": [
    "###### ------------------- Main libraries -------------------################\n",
    "import pandas as pd\n",
    "import numpy as np \n",
    "from pprint import pprint\n",
    "import folium \n",
    "from folium.plugins import HeatMap\n",
    "from folium.plugins import MarkerCluster\n",
    "import datetime"
   ]
  },
  {
   "cell_type": "markdown",
   "metadata": {},
   "source": [
    "# Coordenates Catalog "
   ]
  },
  {
   "cell_type": "code",
   "execution_count": 4,
   "metadata": {},
   "outputs": [
    {
     "name": "stderr",
     "output_type": "stream",
     "text": [
      "C:\\Users\\Data Analyst\\Anaconda3\\lib\\site-packages\\IPython\\core\\interactiveshell.py:3058: DtypeWarning: Columns (13) have mixed types. Specify dtype option on import or set low_memory=False.\n",
      "  interactivity=interactivity, compiler=compiler, result=result)\n"
     ]
    },
    {
     "data": {
      "text/html": [
       "<div>\n",
       "<style scoped>\n",
       "    .dataframe tbody tr th:only-of-type {\n",
       "        vertical-align: middle;\n",
       "    }\n",
       "\n",
       "    .dataframe tbody tr th {\n",
       "        vertical-align: top;\n",
       "    }\n",
       "\n",
       "    .dataframe thead th {\n",
       "        text-align: right;\n",
       "    }\n",
       "</style>\n",
       "<table border=\"1\" class=\"dataframe\">\n",
       "  <thead>\n",
       "    <tr style=\"text-align: right;\">\n",
       "      <th></th>\n",
       "      <th>Mapa</th>\n",
       "      <th>Cve_Ent</th>\n",
       "      <th>Nom_Ent</th>\n",
       "      <th>Nom_Abr</th>\n",
       "      <th>Cve_Mun</th>\n",
       "      <th>Nom_Mun</th>\n",
       "      <th>Cve_Loc</th>\n",
       "      <th>Nom_Loc</th>\n",
       "      <th>Ãmbito</th>\n",
       "      <th>Latitud</th>\n",
       "      <th>Longitud</th>\n",
       "      <th>Lat_Decimal</th>\n",
       "      <th>Lon_Decimal</th>\n",
       "      <th>Altitud</th>\n",
       "      <th>Cve_Carta</th>\n",
       "      <th>Pob_Total</th>\n",
       "      <th>Pob_Masculina</th>\n",
       "      <th>Pob_Femenina</th>\n",
       "      <th>Total De Viviendas Habitadas</th>\n",
       "    </tr>\n",
       "  </thead>\n",
       "  <tbody>\n",
       "    <tr>\n",
       "      <th>0</th>\n",
       "      <td>10010001</td>\n",
       "      <td>1</td>\n",
       "      <td>Aguascalientes</td>\n",
       "      <td>Ags.</td>\n",
       "      <td>1</td>\n",
       "      <td>Aguascalientes</td>\n",
       "      <td>1</td>\n",
       "      <td>Aguascalientes</td>\n",
       "      <td>U</td>\n",
       "      <td>21Â°52Â´47.362N\"</td>\n",
       "      <td>102Â°17Â´45.768W\"</td>\n",
       "      <td>21.879823</td>\n",
       "      <td>-102.296047</td>\n",
       "      <td>1878</td>\n",
       "      <td>F13D19</td>\n",
       "      <td>722250</td>\n",
       "      <td>348722</td>\n",
       "      <td>373528</td>\n",
       "      <td>185120</td>\n",
       "    </tr>\n",
       "    <tr>\n",
       "      <th>1</th>\n",
       "      <td>10010094</td>\n",
       "      <td>1</td>\n",
       "      <td>Aguascalientes</td>\n",
       "      <td>Ags.</td>\n",
       "      <td>1</td>\n",
       "      <td>Aguascalientes</td>\n",
       "      <td>94</td>\n",
       "      <td>Granja Adelita</td>\n",
       "      <td>R</td>\n",
       "      <td>21Â°52Â´18.749N\"</td>\n",
       "      <td>102Â°22Â´24.710W\"</td>\n",
       "      <td>21.871875</td>\n",
       "      <td>-102.373531</td>\n",
       "      <td>1902</td>\n",
       "      <td>F13D18</td>\n",
       "      <td>14</td>\n",
       "      <td>*</td>\n",
       "      <td>*</td>\n",
       "      <td>2</td>\n",
       "    </tr>\n",
       "    <tr>\n",
       "      <th>2</th>\n",
       "      <td>10010096</td>\n",
       "      <td>1</td>\n",
       "      <td>Aguascalientes</td>\n",
       "      <td>Ags.</td>\n",
       "      <td>1</td>\n",
       "      <td>Aguascalientes</td>\n",
       "      <td>96</td>\n",
       "      <td>Agua Azul</td>\n",
       "      <td>R</td>\n",
       "      <td>21Â°53Â´01.522N\"</td>\n",
       "      <td>102Â°21Â´25.639W\"</td>\n",
       "      <td>21.883756</td>\n",
       "      <td>-102.357122</td>\n",
       "      <td>1861</td>\n",
       "      <td>F13D18</td>\n",
       "      <td>37</td>\n",
       "      <td>21</td>\n",
       "      <td>16</td>\n",
       "      <td>11</td>\n",
       "    </tr>\n",
       "    <tr>\n",
       "      <th>3</th>\n",
       "      <td>10010100</td>\n",
       "      <td>1</td>\n",
       "      <td>Aguascalientes</td>\n",
       "      <td>Ags.</td>\n",
       "      <td>1</td>\n",
       "      <td>Aguascalientes</td>\n",
       "      <td>100</td>\n",
       "      <td>Rancho Alegre</td>\n",
       "      <td>R</td>\n",
       "      <td>21Â°51Â´16.556N\"</td>\n",
       "      <td>102Â°22Â´21.884W\"</td>\n",
       "      <td>21.854599</td>\n",
       "      <td>-102.372746</td>\n",
       "      <td>1879</td>\n",
       "      <td>F13D18</td>\n",
       "      <td>10</td>\n",
       "      <td>*</td>\n",
       "      <td>*</td>\n",
       "      <td>1</td>\n",
       "    </tr>\n",
       "    <tr>\n",
       "      <th>4</th>\n",
       "      <td>10010102</td>\n",
       "      <td>1</td>\n",
       "      <td>Aguascalientes</td>\n",
       "      <td>Ags.</td>\n",
       "      <td>1</td>\n",
       "      <td>Aguascalientes</td>\n",
       "      <td>102</td>\n",
       "      <td>Los Arbolitos [Rancho]</td>\n",
       "      <td>R</td>\n",
       "      <td>21Â°46Â´48.650N\"</td>\n",
       "      <td>102Â°21Â´26.261W\"</td>\n",
       "      <td>21.780181</td>\n",
       "      <td>-102.357295</td>\n",
       "      <td>1861</td>\n",
       "      <td>F13D18</td>\n",
       "      <td>7</td>\n",
       "      <td>*</td>\n",
       "      <td>*</td>\n",
       "      <td>1</td>\n",
       "    </tr>\n",
       "  </tbody>\n",
       "</table>\n",
       "</div>"
      ],
      "text/plain": [
       "       Mapa  Cve_Ent         Nom_Ent Nom_Abr  Cve_Mun         Nom_Mun  \\\n",
       "0  10010001        1  Aguascalientes    Ags.        1  Aguascalientes   \n",
       "1  10010094        1  Aguascalientes    Ags.        1  Aguascalientes   \n",
       "2  10010096        1  Aguascalientes    Ags.        1  Aguascalientes   \n",
       "3  10010100        1  Aguascalientes    Ags.        1  Aguascalientes   \n",
       "4  10010102        1  Aguascalientes    Ags.        1  Aguascalientes   \n",
       "\n",
       "   Cve_Loc                 Nom_Loc Ãmbito           Latitud  \\\n",
       "0        1          Aguascalientes       U  21Â°52Â´47.362N\"   \n",
       "1       94          Granja Adelita       R  21Â°52Â´18.749N\"   \n",
       "2       96               Agua Azul       R  21Â°53Â´01.522N\"   \n",
       "3      100           Rancho Alegre       R  21Â°51Â´16.556N\"   \n",
       "4      102  Los Arbolitos [Rancho]       R  21Â°46Â´48.650N\"   \n",
       "\n",
       "            Longitud  Lat_Decimal  Lon_Decimal Altitud Cve_Carta Pob_Total  \\\n",
       "0  102Â°17Â´45.768W\"    21.879823  -102.296047    1878    F13D19    722250   \n",
       "1  102Â°22Â´24.710W\"    21.871875  -102.373531    1902    F13D18        14   \n",
       "2  102Â°21Â´25.639W\"    21.883756  -102.357122    1861    F13D18        37   \n",
       "3  102Â°22Â´21.884W\"    21.854599  -102.372746    1879    F13D18        10   \n",
       "4  102Â°21Â´26.261W\"    21.780181  -102.357295    1861    F13D18         7   \n",
       "\n",
       "  Pob_Masculina Pob_Femenina Total De Viviendas Habitadas  \n",
       "0        348722       373528                       185120  \n",
       "1             *            *                            2  \n",
       "2            21           16                           11  \n",
       "3             *            *                            1  \n",
       "4             *            *                            1  "
      ]
     },
     "execution_count": 4,
     "metadata": {},
     "output_type": "execute_result"
    }
   ],
   "source": [
    "coordenadas = pd.read_csv('C:/Users/Data Analyst/Documents/Otros/COVID-19_MX/coordenadas/coordenadas.csv')\n",
    "coordenadas.head()"
   ]
  },
  {
   "cell_type": "code",
   "execution_count": 7,
   "metadata": {},
   "outputs": [
    {
     "name": "stderr",
     "output_type": "stream",
     "text": [
      "C:\\Users\\Data Analyst\\Anaconda3\\lib\\site-packages\\ipykernel_launcher.py:13: SettingWithCopyWarning: \n",
      "A value is trying to be set on a copy of a slice from a DataFrame.\n",
      "Try using .loc[row_indexer,col_indexer] = value instead\n",
      "\n",
      "See the caveats in the documentation: http://pandas.pydata.org/pandas-docs/stable/indexing.html#indexing-view-versus-copy\n",
      "  del sys.path[0]\n"
     ]
    }
   ],
   "source": [
    "# Aguascalientes\n",
    "coord_ags = coordenadas[coordenadas.Cve_Ent ==1]\n",
    "coord_ags['MUNICIPIO'] = np.where(coord_ags.Nom_Mun == 'Aguascalientes','AGUASCALIENTES',\n",
    "                                 np.where(coord_ags.Nom_Mun == 'Asientos','ASIENTOS',\n",
    "                                 np.where(coord_ags.Nom_Mun == 'Calvillo','CALVILLO',\n",
    "                                 np.where(coord_ags.Nom_Mun == 'CosÃ\\xado','COSÍO',\n",
    "                                 np.where(coord_ags.Nom_Mun == 'JesÃºs MarÃ\\xada','JESÚS MARÍA',\n",
    "                                 np.where(coord_ags.Nom_Mun == 'PabellÃ³n de Arteaga','PABELLÓN DE ARTEAGA',\n",
    "                                 np.where(coord_ags.Nom_Mun == 'RincÃ³n de Romos','RINCÓN DE ROMOS',\n",
    "                                 np.where(coord_ags.Nom_Mun == 'San JosÃ© de Gracia','SAN JOSÉ DE GRACIA',\n",
    "                                 np.where(coord_ags.Nom_Mun == 'TepezalÃ¡','TEPEZALÁ',\n",
    "                                 np.where(coord_ags.Nom_Mun == 'El Llano','EL LLANO',\n",
    "                                 np.where(coord_ags.Nom_Mun == 'San Francisco de los Romo', 'SAN FRANCISCO DE LOS ROMO','Otro')))))))))))"
   ]
  },
  {
   "cell_type": "code",
   "execution_count": 11,
   "metadata": {},
   "outputs": [
    {
     "name": "stderr",
     "output_type": "stream",
     "text": [
      "C:\\Users\\Data Analyst\\Anaconda3\\lib\\site-packages\\ipykernel_launcher.py:7: SettingWithCopyWarning: \n",
      "A value is trying to be set on a copy of a slice from a DataFrame.\n",
      "Try using .loc[row_indexer,col_indexer] = value instead\n",
      "\n",
      "See the caveats in the documentation: http://pandas.pydata.org/pandas-docs/stable/indexing.html#indexing-view-versus-copy\n",
      "  import sys\n"
     ]
    }
   ],
   "source": [
    "# Baja California\n",
    "coord_bc = coordenadas[coordenadas.Cve_Ent ==2]\n",
    "coord_bc['MUNICIPIO'] = np.where(coord_bc.Nom_Mun == 'Ensenada','ENSENADA',\n",
    "                                 np.where(coord_bc.Nom_Mun == 'Mexicali','MEXICALI',\n",
    "                                 np.where(coord_bc.Nom_Mun == 'Tecate','TECATE',\n",
    "                                 np.where(coord_bc.Nom_Mun == 'Tijuana','TIJUANA',\n",
    "                                 np.where(coord_bc.Nom_Mun == 'Playas de Rosarito','PLAYAS DE ROSARITO','NO ESPECIFICADO'\n",
    "                                 )))))"
   ]
  },
  {
   "cell_type": "code",
   "execution_count": 30,
   "metadata": {},
   "outputs": [
    {
     "name": "stderr",
     "output_type": "stream",
     "text": [
      "C:\\Users\\Data Analyst\\Anaconda3\\lib\\site-packages\\ipykernel_launcher.py:7: SettingWithCopyWarning: \n",
      "A value is trying to be set on a copy of a slice from a DataFrame.\n",
      "Try using .loc[row_indexer,col_indexer] = value instead\n",
      "\n",
      "See the caveats in the documentation: http://pandas.pydata.org/pandas-docs/stable/indexing.html#indexing-view-versus-copy\n",
      "  import sys\n"
     ]
    },
    {
     "data": {
      "text/plain": [
       "LA PAZ       1450\n",
       "COMONDÚ       971\n",
       "LOS CABOS     736\n",
       "MULEGÉ        617\n",
       "LORETO        208\n",
       "Name: MUNICIPIO, dtype: int64"
      ]
     },
     "execution_count": 30,
     "metadata": {},
     "output_type": "execute_result"
    }
   ],
   "source": [
    "# Baja California Sur\n",
    "coord_bcs = coordenadas[coordenadas.Cve_Ent == 3]\n",
    "coord_bcs['MUNICIPIO'] = np.where(coord_bcs.Nom_Mun == 'La Paz','LA PAZ',\n",
    "                                 np.where(coord_bcs.Nom_Mun == 'ComondÃº','COMONDÚ',\n",
    "                                 np.where(coord_bcs.Nom_Mun == 'Los Cabos','LOS CABOS',\n",
    "                                 np.where(coord_bcs.Nom_Mun == 'MulegÃ©','MULEGÉ',\n",
    "                                 np.where(coord_bcs.Nom_Mun == 'Loreto','LORETO','NO ESPECIFICADO'\n",
    "                                 )))))\n",
    "coord_bcs.MUNICIPIO.value_counts()"
   ]
  },
  {
   "cell_type": "code",
   "execution_count": 31,
   "metadata": {},
   "outputs": [
    {
     "ename": "ValueError",
     "evalue": "Length of values does not match length of index",
     "output_type": "error",
     "traceback": [
      "\u001b[1;31m---------------------------------------------------------------------------\u001b[0m",
      "\u001b[1;31mValueError\u001b[0m                                Traceback (most recent call last)",
      "\u001b[1;32m<ipython-input-31-ab648a7d0672>\u001b[0m in \u001b[0;36m<module>\u001b[1;34m\u001b[0m\n\u001b[0;32m     11\u001b[0m                                  np.where(coord_bcs.Nom_Mun == 'CalkinÃ','CALKINÍ',\n\u001b[0;32m     12\u001b[0m                                  np.where(coord_bcs.Nom_Mun == 'HecelchakÃ¡n','HECELCHAKÁN',\n\u001b[1;32m---> 13\u001b[1;33m                                  np.where(coord_bcs.Nom_Mun == 'Tenabo','TENABO','NO ESPECIFICADO'\n\u001b[0m\u001b[0;32m     14\u001b[0m                                  )))))))))))\n\u001b[0;32m     15\u001b[0m \u001b[0mcoord_camp\u001b[0m\u001b[1;33m.\u001b[0m\u001b[0mMUNICIPIO\u001b[0m\u001b[1;33m.\u001b[0m\u001b[0mvalue_counts\u001b[0m\u001b[1;33m(\u001b[0m\u001b[1;33m)\u001b[0m\u001b[1;33m\u001b[0m\u001b[1;33m\u001b[0m\u001b[0m\n",
      "\u001b[1;32m~\\AppData\\Roaming\\Python\\Python37\\site-packages\\pandas\\core\\frame.py\u001b[0m in \u001b[0;36m__setitem__\u001b[1;34m(self, key, value)\u001b[0m\n\u001b[0;32m   3358\u001b[0m         \u001b[1;32melse\u001b[0m\u001b[1;33m:\u001b[0m\u001b[1;33m\u001b[0m\u001b[1;33m\u001b[0m\u001b[0m\n\u001b[0;32m   3359\u001b[0m             \u001b[1;31m# set column\u001b[0m\u001b[1;33m\u001b[0m\u001b[1;33m\u001b[0m\u001b[1;33m\u001b[0m\u001b[0m\n\u001b[1;32m-> 3360\u001b[1;33m             \u001b[0mself\u001b[0m\u001b[1;33m.\u001b[0m\u001b[0m_set_item\u001b[0m\u001b[1;33m(\u001b[0m\u001b[0mkey\u001b[0m\u001b[1;33m,\u001b[0m \u001b[0mvalue\u001b[0m\u001b[1;33m)\u001b[0m\u001b[1;33m\u001b[0m\u001b[1;33m\u001b[0m\u001b[0m\n\u001b[0m\u001b[0;32m   3361\u001b[0m \u001b[1;33m\u001b[0m\u001b[0m\n\u001b[0;32m   3362\u001b[0m     \u001b[1;32mdef\u001b[0m \u001b[0m_setitem_slice\u001b[0m\u001b[1;33m(\u001b[0m\u001b[0mself\u001b[0m\u001b[1;33m,\u001b[0m \u001b[0mkey\u001b[0m\u001b[1;33m,\u001b[0m \u001b[0mvalue\u001b[0m\u001b[1;33m)\u001b[0m\u001b[1;33m:\u001b[0m\u001b[1;33m\u001b[0m\u001b[1;33m\u001b[0m\u001b[0m\n",
      "\u001b[1;32m~\\AppData\\Roaming\\Python\\Python37\\site-packages\\pandas\\core\\frame.py\u001b[0m in \u001b[0;36m_set_item\u001b[1;34m(self, key, value)\u001b[0m\n\u001b[0;32m   3433\u001b[0m \u001b[1;33m\u001b[0m\u001b[0m\n\u001b[0;32m   3434\u001b[0m         \u001b[0mself\u001b[0m\u001b[1;33m.\u001b[0m\u001b[0m_ensure_valid_index\u001b[0m\u001b[1;33m(\u001b[0m\u001b[0mvalue\u001b[0m\u001b[1;33m)\u001b[0m\u001b[1;33m\u001b[0m\u001b[1;33m\u001b[0m\u001b[0m\n\u001b[1;32m-> 3435\u001b[1;33m         \u001b[0mvalue\u001b[0m \u001b[1;33m=\u001b[0m \u001b[0mself\u001b[0m\u001b[1;33m.\u001b[0m\u001b[0m_sanitize_column\u001b[0m\u001b[1;33m(\u001b[0m\u001b[0mkey\u001b[0m\u001b[1;33m,\u001b[0m \u001b[0mvalue\u001b[0m\u001b[1;33m)\u001b[0m\u001b[1;33m\u001b[0m\u001b[1;33m\u001b[0m\u001b[0m\n\u001b[0m\u001b[0;32m   3436\u001b[0m         \u001b[0mNDFrame\u001b[0m\u001b[1;33m.\u001b[0m\u001b[0m_set_item\u001b[0m\u001b[1;33m(\u001b[0m\u001b[0mself\u001b[0m\u001b[1;33m,\u001b[0m \u001b[0mkey\u001b[0m\u001b[1;33m,\u001b[0m \u001b[0mvalue\u001b[0m\u001b[1;33m)\u001b[0m\u001b[1;33m\u001b[0m\u001b[1;33m\u001b[0m\u001b[0m\n\u001b[0;32m   3437\u001b[0m \u001b[1;33m\u001b[0m\u001b[0m\n",
      "\u001b[1;32m~\\AppData\\Roaming\\Python\\Python37\\site-packages\\pandas\\core\\frame.py\u001b[0m in \u001b[0;36m_sanitize_column\u001b[1;34m(self, key, value, broadcast)\u001b[0m\n\u001b[0;32m   3618\u001b[0m \u001b[1;33m\u001b[0m\u001b[0m\n\u001b[0;32m   3619\u001b[0m             \u001b[1;31m# turn me into an ndarray\u001b[0m\u001b[1;33m\u001b[0m\u001b[1;33m\u001b[0m\u001b[1;33m\u001b[0m\u001b[0m\n\u001b[1;32m-> 3620\u001b[1;33m             \u001b[0mvalue\u001b[0m \u001b[1;33m=\u001b[0m \u001b[0msanitize_index\u001b[0m\u001b[1;33m(\u001b[0m\u001b[0mvalue\u001b[0m\u001b[1;33m,\u001b[0m \u001b[0mself\u001b[0m\u001b[1;33m.\u001b[0m\u001b[0mindex\u001b[0m\u001b[1;33m,\u001b[0m \u001b[0mcopy\u001b[0m\u001b[1;33m=\u001b[0m\u001b[1;32mFalse\u001b[0m\u001b[1;33m)\u001b[0m\u001b[1;33m\u001b[0m\u001b[1;33m\u001b[0m\u001b[0m\n\u001b[0m\u001b[0;32m   3621\u001b[0m             \u001b[1;32mif\u001b[0m \u001b[1;32mnot\u001b[0m \u001b[0misinstance\u001b[0m\u001b[1;33m(\u001b[0m\u001b[0mvalue\u001b[0m\u001b[1;33m,\u001b[0m \u001b[1;33m(\u001b[0m\u001b[0mnp\u001b[0m\u001b[1;33m.\u001b[0m\u001b[0mndarray\u001b[0m\u001b[1;33m,\u001b[0m \u001b[0mIndex\u001b[0m\u001b[1;33m)\u001b[0m\u001b[1;33m)\u001b[0m\u001b[1;33m:\u001b[0m\u001b[1;33m\u001b[0m\u001b[1;33m\u001b[0m\u001b[0m\n\u001b[0;32m   3622\u001b[0m                 \u001b[1;32mif\u001b[0m \u001b[0misinstance\u001b[0m\u001b[1;33m(\u001b[0m\u001b[0mvalue\u001b[0m\u001b[1;33m,\u001b[0m \u001b[0mlist\u001b[0m\u001b[1;33m)\u001b[0m \u001b[1;32mand\u001b[0m \u001b[0mlen\u001b[0m\u001b[1;33m(\u001b[0m\u001b[0mvalue\u001b[0m\u001b[1;33m)\u001b[0m \u001b[1;33m>\u001b[0m \u001b[1;36m0\u001b[0m\u001b[1;33m:\u001b[0m\u001b[1;33m\u001b[0m\u001b[1;33m\u001b[0m\u001b[0m\n",
      "\u001b[1;32m~\\AppData\\Roaming\\Python\\Python37\\site-packages\\pandas\\core\\internals\\construction.py\u001b[0m in \u001b[0;36msanitize_index\u001b[1;34m(data, index, copy)\u001b[0m\n\u001b[0;32m    517\u001b[0m \u001b[1;33m\u001b[0m\u001b[0m\n\u001b[0;32m    518\u001b[0m     \u001b[1;32mif\u001b[0m \u001b[0mlen\u001b[0m\u001b[1;33m(\u001b[0m\u001b[0mdata\u001b[0m\u001b[1;33m)\u001b[0m \u001b[1;33m!=\u001b[0m \u001b[0mlen\u001b[0m\u001b[1;33m(\u001b[0m\u001b[0mindex\u001b[0m\u001b[1;33m)\u001b[0m\u001b[1;33m:\u001b[0m\u001b[1;33m\u001b[0m\u001b[1;33m\u001b[0m\u001b[0m\n\u001b[1;32m--> 519\u001b[1;33m         \u001b[1;32mraise\u001b[0m \u001b[0mValueError\u001b[0m\u001b[1;33m(\u001b[0m\u001b[1;34m'Length of values does not match length of index'\u001b[0m\u001b[1;33m)\u001b[0m\u001b[1;33m\u001b[0m\u001b[1;33m\u001b[0m\u001b[0m\n\u001b[0m\u001b[0;32m    520\u001b[0m \u001b[1;33m\u001b[0m\u001b[0m\n\u001b[0;32m    521\u001b[0m     \u001b[1;32mif\u001b[0m \u001b[0misinstance\u001b[0m\u001b[1;33m(\u001b[0m\u001b[0mdata\u001b[0m\u001b[1;33m,\u001b[0m \u001b[0mABCIndexClass\u001b[0m\u001b[1;33m)\u001b[0m \u001b[1;32mand\u001b[0m \u001b[1;32mnot\u001b[0m \u001b[0mcopy\u001b[0m\u001b[1;33m:\u001b[0m\u001b[1;33m\u001b[0m\u001b[1;33m\u001b[0m\u001b[0m\n",
      "\u001b[1;31mValueError\u001b[0m: Length of values does not match length of index"
     ]
    }
   ],
   "source": [
    "# Campeche\n",
    "coord_camp = coordenadas[coordenadas.Cve_Ent == 4]\n",
    "coord_camp['MUNICIPIO'] = np.where(coord_camp.Nom_Mun == 'Carmen','CARMEN',\n",
    "                                 np.where(coord_camp.Nom_Mun == 'Candelaria','CANDELARIA',\n",
    "                                 np.where(coord_camp.Nom_Mun == 'ChampotÃ³n','CHAMPOTÓN',\n",
    "                                 np.where(coord_camp.Nom_Mun == 'EscÃ¡rcega','ESCÁRCEGA',\n",
    "                                 np.where(coord_camp.Nom_Mun == 'Campeche','CAMPECHE',\n",
    "                                 np.where(coord_camp.Nom_Mun == 'Calakmul','CALAKMUL',\n",
    "                                 np.where(coord_camp.Nom_Mun == 'HopelchÃ©n','HOPELCHÉN',\n",
    "                                 np.where(coord_camp.Nom_Mun == 'Palizada','PALIZADA',\n",
    "                                 np.where(coord_camp.Nom_Mun == 'CalkinÃ','CALKINÍ',\n",
    "                                 np.where(coord_bcs.Nom_Mun == 'HecelchakÃ¡n','HECELCHAKÁN',\n",
    "                                 np.where(coord_bcs.Nom_Mun == 'Tenabo','TENABO','NO ESPECIFICADO'\n",
    "                                 )))))))))))\n",
    "coord_camp.MUNICIPIO.value_counts()"
   ]
  },
  {
   "cell_type": "markdown",
   "metadata": {},
   "source": [
    "# MCP Catalog"
   ]
  },
  {
   "cell_type": "code",
   "execution_count": 5,
   "metadata": {},
   "outputs": [
    {
     "data": {
      "text/html": [
       "<div>\n",
       "<style scoped>\n",
       "    .dataframe tbody tr th:only-of-type {\n",
       "        vertical-align: middle;\n",
       "    }\n",
       "\n",
       "    .dataframe tbody tr th {\n",
       "        vertical-align: top;\n",
       "    }\n",
       "\n",
       "    .dataframe thead th {\n",
       "        text-align: right;\n",
       "    }\n",
       "</style>\n",
       "<table border=\"1\" class=\"dataframe\">\n",
       "  <thead>\n",
       "    <tr style=\"text-align: right;\">\n",
       "      <th></th>\n",
       "      <th>CLAVE_MUNICIPIO</th>\n",
       "      <th>MUNICIPIO</th>\n",
       "      <th>CLAVE_ENTIDAD</th>\n",
       "    </tr>\n",
       "  </thead>\n",
       "  <tbody>\n",
       "    <tr>\n",
       "      <th>0</th>\n",
       "      <td>1</td>\n",
       "      <td>AGUASCALIENTES</td>\n",
       "      <td>1</td>\n",
       "    </tr>\n",
       "    <tr>\n",
       "      <th>1</th>\n",
       "      <td>2</td>\n",
       "      <td>ASIENTOS</td>\n",
       "      <td>1</td>\n",
       "    </tr>\n",
       "    <tr>\n",
       "      <th>2</th>\n",
       "      <td>3</td>\n",
       "      <td>CALVILLO</td>\n",
       "      <td>1</td>\n",
       "    </tr>\n",
       "    <tr>\n",
       "      <th>3</th>\n",
       "      <td>4</td>\n",
       "      <td>COSÍO</td>\n",
       "      <td>1</td>\n",
       "    </tr>\n",
       "    <tr>\n",
       "      <th>4</th>\n",
       "      <td>5</td>\n",
       "      <td>JESÚS MARÍA</td>\n",
       "      <td>1</td>\n",
       "    </tr>\n",
       "  </tbody>\n",
       "</table>\n",
       "</div>"
      ],
      "text/plain": [
       "   CLAVE_MUNICIPIO       MUNICIPIO  CLAVE_ENTIDAD\n",
       "0                1  AGUASCALIENTES              1\n",
       "1                2        ASIENTOS              1\n",
       "2                3        CALVILLO              1\n",
       "3                4           COSÍO              1\n",
       "4                5     JESÚS MARÍA              1"
      ]
     },
     "execution_count": 5,
     "metadata": {},
     "output_type": "execute_result"
    }
   ],
   "source": [
    "municipios = pd.read_csv('C:/Users/Data Analyst/Documents/Otros/COVID-19_MX/coordenadas/catalogo_municipios.csv')\n",
    "municipios.head()"
   ]
  },
  {
   "cell_type": "code",
   "execution_count": 6,
   "metadata": {},
   "outputs": [
    {
     "data": {
      "text/plain": [
       "array(['AGUASCALIENTES', 'ASIENTOS', 'CALVILLO', 'COSÍO', 'JESÚS MARÍA',\n",
       "       'PABELLÓN DE ARTEAGA', 'RINCÓN DE ROMOS', 'SAN JOSÉ DE GRACIA',\n",
       "       'TEPEZALÁ', 'EL LLANO', 'SAN FRANCISCO DE LOS ROMO',\n",
       "       'NO ESPECIFICADO'], dtype=object)"
      ]
     },
     "execution_count": 6,
     "metadata": {},
     "output_type": "execute_result"
    }
   ],
   "source": [
    "# Aguascalientes\n",
    "aguas_mcp = municipios[municipios.CLAVE_ENTIDAD ==1]\n",
    "aguas_mcp.MUNICIPIO.values"
   ]
  },
  {
   "cell_type": "code",
   "execution_count": 12,
   "metadata": {},
   "outputs": [
    {
     "data": {
      "text/plain": [
       "array(['ENSENADA', 'MEXICALI', 'TECATE', 'TIJUANA', 'PLAYAS DE ROSARITO',\n",
       "       'NO ESPECIFICADO'], dtype=object)"
      ]
     },
     "execution_count": 12,
     "metadata": {},
     "output_type": "execute_result"
    }
   ],
   "source": [
    "# Baja California\n",
    "bc_mcp = municipios[municipios.CLAVE_ENTIDAD ==2]\n",
    "bc_mcp.MUNICIPIO.values"
   ]
  },
  {
   "cell_type": "code",
   "execution_count": 13,
   "metadata": {},
   "outputs": [
    {
     "data": {
      "text/plain": [
       "array(['COMONDÚ', 'MULEGÉ', 'LA PAZ', 'LOS CABOS', 'LORETO',\n",
       "       'NO ESPECIFICADO'], dtype=object)"
      ]
     },
     "execution_count": 13,
     "metadata": {},
     "output_type": "execute_result"
    }
   ],
   "source": [
    "# Baja California Sur\n",
    "bcs_mcp = municipios[municipios.CLAVE_ENTIDAD ==3]\n",
    "bcs_mcp.MUNICIPIO.values"
   ]
  },
  {
   "cell_type": "code",
   "execution_count": 14,
   "metadata": {},
   "outputs": [
    {
     "data": {
      "text/plain": [
       "array(['CALKINÍ', 'CAMPECHE', 'CARMEN', 'CHAMPOTÓN', 'HECELCHAKÁN',\n",
       "       'HOPELCHÉN', 'PALIZADA', 'TENABO', 'ESCÁRCEGA', 'CALAKMUL',\n",
       "       'CANDELARIA', 'NO ESPECIFICADO'], dtype=object)"
      ]
     },
     "execution_count": 14,
     "metadata": {},
     "output_type": "execute_result"
    }
   ],
   "source": [
    "# Campeche\n",
    "camp_mcp = municipios[municipios.CLAVE_ENTIDAD ==4]\n",
    "camp_mcp.MUNICIPIO.values"
   ]
  },
  {
   "cell_type": "code",
   "execution_count": 15,
   "metadata": {},
   "outputs": [
    {
     "data": {
      "text/plain": [
       "array(['ABASOLO', 'ACUÑA', 'ALLENDE', 'ARTEAGA', 'CANDELA', 'CASTAÑOS',\n",
       "       'CUATRO CIÉNEGAS', 'ESCOBEDO', 'FRANCISCO I. MADERO', 'FRONTERA',\n",
       "       'GENERAL CEPEDA', 'GUERRERO', 'HIDALGO', 'JIMÉNEZ', 'JUÁREZ',\n",
       "       'LAMADRID', 'MATAMOROS', 'MONCLOVA', 'MORELOS', 'MÚZQUIZ',\n",
       "       'NADADORES', 'NAVA', 'OCAMPO', 'PARRAS', 'PIEDRAS NEGRAS',\n",
       "       'PROGRESO', 'RAMOS ARIZPE', 'SABINAS', 'SACRAMENTO', 'SALTILLO',\n",
       "       'SAN BUENAVENTURA', 'SAN JUAN DE SABINAS', 'SAN PEDRO',\n",
       "       'SIERRA MOJADA', 'TORREÓN', 'VIESCA', 'VILLA UNIÓN', 'ZARAGOZA',\n",
       "       'NO ESPECIFICADO'], dtype=object)"
      ]
     },
     "execution_count": 15,
     "metadata": {},
     "output_type": "execute_result"
    }
   ],
   "source": [
    "# Coahuila\n",
    "coah_mcp = municipios[municipios.CLAVE_ENTIDAD ==5]\n",
    "coah_mcp.MUNICIPIO.values"
   ]
  },
  {
   "cell_type": "code",
   "execution_count": 16,
   "metadata": {},
   "outputs": [
    {
     "data": {
      "text/plain": [
       "array(['ARMERÍA', 'COLIMA', 'COMALA', 'COQUIMATLÁN', 'CUAUHTÉMOC',\n",
       "       'IXTLAHUACÁN', 'MANZANILLO', 'MINATITLÁN', 'TECOMÁN',\n",
       "       'VILLA DE ÁLVAREZ', 'NO ESPECIFICADO'], dtype=object)"
      ]
     },
     "execution_count": 16,
     "metadata": {},
     "output_type": "execute_result"
    }
   ],
   "source": [
    "# Colima\n",
    "col_mcp = municipios[municipios.CLAVE_ENTIDAD ==6]\n",
    "col_mcp.MUNICIPIO.values"
   ]
  },
  {
   "cell_type": "code",
   "execution_count": 17,
   "metadata": {},
   "outputs": [
    {
     "data": {
      "text/plain": [
       "array(['ACACOYAGUA', 'ACALA', 'ACAPETAHUA', 'ALTAMIRANO', 'AMATÁN',\n",
       "       'AMATENANGO DE LA FRONTERA', 'AMATENANGO DEL VALLE',\n",
       "       'ANGEL ALBINO CORZO', 'ARRIAGA', 'BEJUCAL DE OCAMPO',\n",
       "       'BELLA VISTA', 'BERRIOZÁBAL', 'BOCHIL', 'EL BOSQUE', 'CACAHOATÁN',\n",
       "       'CATAZAJÁ', 'CINTALAPA', 'COAPILLA', 'COMITÁN DE DOMÍNGUEZ',\n",
       "       'LA CONCORDIA', 'COPAINALÁ', 'CHALCHIHUITÁN', 'CHAMULA', 'CHANAL',\n",
       "       'CHAPULTENANGO', 'CHENALHÓ', 'CHIAPA DE CORZO', 'CHIAPILLA',\n",
       "       'CHICOASÉN', 'CHICOMUSELO', 'CHILÓN', 'ESCUINTLA',\n",
       "       'FRANCISCO LEÓN', 'FRONTERA COMALAPA', 'FRONTERA HIDALGO',\n",
       "       'LA GRANDEZA', 'HUEHUETÁN', 'HUIXTÁN', 'HUITIUPÁN', 'HUIXTLA',\n",
       "       'LA INDEPENDENCIA', 'IXHUATÁN', 'IXTACOMITÁN', 'IXTAPA',\n",
       "       'IXTAPANGAJOYA', 'JIQUIPILAS', 'JITOTOL', 'JUÁREZ', 'LARRÁINZAR',\n",
       "       'LA LIBERTAD', 'MAPASTEPEC', 'LAS MARGARITAS', 'MAZAPA DE MADERO',\n",
       "       'MAZATÁN', 'METAPA', 'MITONTIC', 'MOTOZINTLA', 'NICOLÁS RUÍZ',\n",
       "       'OCOSINGO', 'OCOTEPEC', 'OCOZOCOAUTLA DE ESPINOSA', 'OSTUACÁN',\n",
       "       'OSUMACINTA', 'OXCHUC', 'PALENQUE', 'PANTELHÓ', 'PANTEPEC',\n",
       "       'PICHUCALCO', 'PIJIJIAPAN', 'EL PORVENIR', 'VILLA COMALTITLÁN',\n",
       "       'PUEBLO NUEVO SOLISTAHUACÁN', 'RAYÓN', 'REFORMA', 'LAS ROSAS',\n",
       "       'SABANILLA', 'SALTO DE AGUA', 'SAN CRISTÓBAL DE LAS CASAS',\n",
       "       'SAN FERNANDO', 'SILTEPEC', 'SIMOJOVEL', 'SITALÁ', 'SOCOLTENANGO',\n",
       "       'SOLOSUCHIAPA', 'SOYALÓ', 'SUCHIAPA', 'SUCHIATE', 'SUNUAPA',\n",
       "       'TAPACHULA', 'TAPALAPA', 'TAPILULA', 'TECPATÁN', 'TENEJAPA',\n",
       "       'TEOPISCA', 'TILA', 'TONALÁ', 'TOTOLAPA', 'LA TRINITARIA',\n",
       "       'TUMBALÁ', 'TUXTLA GUTIÉRREZ', 'TUXTLA CHICO', 'TUZANTÁN',\n",
       "       'TZIMOL', 'UNIÓN JUÁREZ', 'VENUSTIANO CARRANZA', 'VILLA CORZO',\n",
       "       'VILLAFLORES', 'YAJALÓN', 'SAN LUCAS', 'ZINACANTÁN',\n",
       "       'SAN JUAN CANCUC', 'ALDAMA', 'BENEMÉRITO DE LAS AMÉRICAS',\n",
       "       'MARAVILLA TENEJAPA', 'MARQUÉS DE COMILLAS',\n",
       "       'MONTECRISTO DE GUERRERO', 'SAN ANDRÉS DURAZNAL',\n",
       "       'SANTIAGO EL PINAR', 'CAPITÁN LUIS ÁNGEL VIDAL',\n",
       "       'RINCÓN CHAMULA SAN PEDRO', 'EL PARRAL', 'EMILIANO ZAPATA',\n",
       "       'MEZCALAPA', 'NO ESPECIFICADO'], dtype=object)"
      ]
     },
     "execution_count": 17,
     "metadata": {},
     "output_type": "execute_result"
    }
   ],
   "source": [
    "# Chiapas\n",
    "chiap_mcp = municipios[municipios.CLAVE_ENTIDAD ==7]\n",
    "chiap_mcp.MUNICIPIO.values"
   ]
  },
  {
   "cell_type": "code",
   "execution_count": 18,
   "metadata": {},
   "outputs": [
    {
     "data": {
      "text/plain": [
       "array(['AHUMADA', 'ALDAMA', 'ALLENDE', 'AQUILES SERDÁN', 'ASCENSIÓN',\n",
       "       'BACHÍNIVA', 'BALLEZA', 'BATOPILAS DE MANUEL GÓMEZ MORÍN',\n",
       "       'BOCOYNA', 'BUENAVENTURA', 'CAMARGO', 'CARICHÍ', 'CASAS GRANDES',\n",
       "       'CORONADO', 'COYAME DEL SOTOL', 'LA CRUZ', 'CUAUHTÉMOC',\n",
       "       'CUSIHUIRIACHI', 'CHIHUAHUA', 'CHÍNIPAS', 'DELICIAS',\n",
       "       'DR. BELISARIO DOMÍNGUEZ', 'GALEANA', 'SANTA ISABEL',\n",
       "       'GÓMEZ FARÍAS', 'GRAN MORELOS', 'GUACHOCHI', 'GUADALUPE',\n",
       "       'GUADALUPE Y CALVO', 'GUAZAPARES', 'GUERRERO',\n",
       "       'HIDALGO DEL PARRAL', 'HUEJOTITÁN', 'IGNACIO ZARAGOZA', 'JANOS',\n",
       "       'JIMÉNEZ', 'JUÁREZ', 'JULIMES', 'LÓPEZ', 'MADERA', 'MAGUARICHI',\n",
       "       'MANUEL BENAVIDES', 'MATACHÍ', 'MATAMOROS', 'MEOQUI', 'MORELOS',\n",
       "       'MORIS', 'NAMIQUIPA', 'NONOAVA', 'NUEVO CASAS GRANDES', 'OCAMPO',\n",
       "       'OJINAGA', 'PRAXEDIS G. GUERRERO', 'RIVA PALACIO', 'ROSALES',\n",
       "       'ROSARIO', 'SAN FRANCISCO DE BORJA', 'SAN FRANCISCO DE CONCHOS',\n",
       "       'SAN FRANCISCO DEL ORO', 'SANTA BÁRBARA', 'SATEVÓ', 'SAUCILLO',\n",
       "       'TEMÓSACHIC', 'EL TULE', 'URIQUE', 'URUACHI', 'VALLE DE ZARAGOZA',\n",
       "       'NO ESPECIFICADO'], dtype=object)"
      ]
     },
     "execution_count": 18,
     "metadata": {},
     "output_type": "execute_result"
    }
   ],
   "source": [
    "# Chihuahua\n",
    "chih_mcp = municipios[municipios.CLAVE_ENTIDAD ==8]\n",
    "chih_mcp.MUNICIPIO.values"
   ]
  },
  {
   "cell_type": "code",
   "execution_count": 19,
   "metadata": {},
   "outputs": [
    {
     "data": {
      "text/plain": [
       "array(['AZCAPOTZALCO', 'COYOACÁN', 'CUAJIMALPA DE MORELOS',\n",
       "       'GUSTAVO A. MADERO', 'IZTACALCO', 'IZTAPALAPA',\n",
       "       'LA MAGDALENA CONTRERAS', 'MILPA ALTA', 'ÁLVARO OBREGÓN',\n",
       "       'TLÁHUAC', 'TLALPAN', 'XOCHIMILCO', 'BENITO JUÁREZ', 'CUAUHTÉMOC',\n",
       "       'MIGUEL HIDALGO', 'VENUSTIANO CARRANZA', 'NO ESPECIFICADO'],\n",
       "      dtype=object)"
      ]
     },
     "execution_count": 19,
     "metadata": {},
     "output_type": "execute_result"
    }
   ],
   "source": [
    "# CDMX\n",
    "cdmx_mcp = municipios[municipios.CLAVE_ENTIDAD ==9]\n",
    "cdmx_mcp.MUNICIPIO.values"
   ]
  },
  {
   "cell_type": "code",
   "execution_count": 20,
   "metadata": {},
   "outputs": [
    {
     "data": {
      "text/plain": [
       "array(['CANATLÁN', 'CANELAS', 'CONETO DE COMONFORT', 'CUENCAMÉ',\n",
       "       'DURANGO', 'GENERAL SIMÓN BOLÍVAR', 'GÓMEZ PALACIO',\n",
       "       'GUADALUPE VICTORIA', 'GUANACEVÍ', 'HIDALGO', 'INDÉ', 'LERDO',\n",
       "       'MAPIMÍ', 'MEZQUITAL', 'NAZAS', 'NOMBRE DE DIOS', 'OCAMPO',\n",
       "       'EL ORO', 'OTÁEZ', 'PÁNUCO DE CORONADO', 'PEÑÓN BLANCO', 'POANAS',\n",
       "       'PUEBLO NUEVO', 'RODEO', 'SAN BERNARDO', 'SAN DIMAS',\n",
       "       'SAN JUAN DE GUADALUPE', 'SAN JUAN DEL RÍO',\n",
       "       'SAN LUIS DEL CORDERO', 'SAN PEDRO DEL GALLO', 'SANTA CLARA',\n",
       "       'SANTIAGO PAPASQUIARO', 'SÚCHIL', 'TAMAZULA', 'TEPEHUANES',\n",
       "       'TLAHUALILO', 'TOPIA', 'VICENTE GUERRERO', 'NUEVO IDEAL',\n",
       "       'NO ESPECIFICADO'], dtype=object)"
      ]
     },
     "execution_count": 20,
     "metadata": {},
     "output_type": "execute_result"
    }
   ],
   "source": [
    "# Durango\n",
    "dur_mcp = municipios[municipios.CLAVE_ENTIDAD ==10]\n",
    "dur_mcp.MUNICIPIO.values"
   ]
  },
  {
   "cell_type": "code",
   "execution_count": null,
   "metadata": {},
   "outputs": [],
   "source": []
  },
  {
   "cell_type": "markdown",
   "metadata": {},
   "source": [
    "# MX Covid Data"
   ]
  },
  {
   "cell_type": "code",
   "execution_count": 10,
   "metadata": {},
   "outputs": [
    {
     "data": {
      "text/html": [
       "<div>\n",
       "<style scoped>\n",
       "    .dataframe tbody tr th:only-of-type {\n",
       "        vertical-align: middle;\n",
       "    }\n",
       "\n",
       "    .dataframe tbody tr th {\n",
       "        vertical-align: top;\n",
       "    }\n",
       "\n",
       "    .dataframe thead th {\n",
       "        text-align: right;\n",
       "    }\n",
       "</style>\n",
       "<table border=\"1\" class=\"dataframe\">\n",
       "  <thead>\n",
       "    <tr style=\"text-align: right;\">\n",
       "      <th></th>\n",
       "      <th>FECHA_ACTUALIZACION</th>\n",
       "      <th>ID_REGISTRO</th>\n",
       "      <th>ORIGEN</th>\n",
       "      <th>SECTOR</th>\n",
       "      <th>ENTIDAD_UM</th>\n",
       "      <th>SEXO</th>\n",
       "      <th>ENTIDAD_NAC</th>\n",
       "      <th>ENTIDAD_RES</th>\n",
       "      <th>MUNICIPIO_RES</th>\n",
       "      <th>TIPO_PACIENTE</th>\n",
       "      <th>...</th>\n",
       "      <th>OBESIDAD</th>\n",
       "      <th>RENAL_CRONICA</th>\n",
       "      <th>TABAQUISMO</th>\n",
       "      <th>OTRO_CASO</th>\n",
       "      <th>RESULTADO</th>\n",
       "      <th>MIGRANTE</th>\n",
       "      <th>PAIS_NACIONALIDAD</th>\n",
       "      <th>PAIS_ORIGEN</th>\n",
       "      <th>UCI</th>\n",
       "      <th>DEFUNCION</th>\n",
       "    </tr>\n",
       "  </thead>\n",
       "  <tbody>\n",
       "    <tr>\n",
       "      <th>0</th>\n",
       "      <td>12/05/2020</td>\n",
       "      <td>0ae84c</td>\n",
       "      <td>2</td>\n",
       "      <td>1</td>\n",
       "      <td>9</td>\n",
       "      <td>1</td>\n",
       "      <td>9</td>\n",
       "      <td>9</td>\n",
       "      <td>16</td>\n",
       "      <td>1</td>\n",
       "      <td>...</td>\n",
       "      <td>2</td>\n",
       "      <td>2</td>\n",
       "      <td>2</td>\n",
       "      <td>99</td>\n",
       "      <td>1</td>\n",
       "      <td>99</td>\n",
       "      <td>MÃ©xico</td>\n",
       "      <td>99</td>\n",
       "      <td>97</td>\n",
       "      <td>0</td>\n",
       "    </tr>\n",
       "    <tr>\n",
       "      <th>1</th>\n",
       "      <td>12/05/2020</td>\n",
       "      <td>1.14E+15</td>\n",
       "      <td>2</td>\n",
       "      <td>3</td>\n",
       "      <td>2</td>\n",
       "      <td>2</td>\n",
       "      <td>2</td>\n",
       "      <td>2</td>\n",
       "      <td>2</td>\n",
       "      <td>1</td>\n",
       "      <td>...</td>\n",
       "      <td>2</td>\n",
       "      <td>2</td>\n",
       "      <td>2</td>\n",
       "      <td>1</td>\n",
       "      <td>1</td>\n",
       "      <td>99</td>\n",
       "      <td>MÃ©xico</td>\n",
       "      <td>99</td>\n",
       "      <td>97</td>\n",
       "      <td>1</td>\n",
       "    </tr>\n",
       "  </tbody>\n",
       "</table>\n",
       "<p>2 rows × 36 columns</p>\n",
       "</div>"
      ],
      "text/plain": [
       "  FECHA_ACTUALIZACION ID_REGISTRO  ORIGEN  SECTOR  ENTIDAD_UM  SEXO  \\\n",
       "0          12/05/2020      0ae84c       2       1           9     1   \n",
       "1          12/05/2020    1.14E+15       2       3           2     2   \n",
       "\n",
       "   ENTIDAD_NAC  ENTIDAD_RES  MUNICIPIO_RES  TIPO_PACIENTE  ... OBESIDAD  \\\n",
       "0            9            9             16              1  ...        2   \n",
       "1            2            2              2              1  ...        2   \n",
       "\n",
       "  RENAL_CRONICA TABAQUISMO  OTRO_CASO  RESULTADO  MIGRANTE  PAIS_NACIONALIDAD  \\\n",
       "0             2          2         99          1        99            MÃ©xico   \n",
       "1             2          2          1          1        99            MÃ©xico   \n",
       "\n",
       "   PAIS_ORIGEN  UCI  DEFUNCION  \n",
       "0           99   97          0  \n",
       "1           99   97          1  \n",
       "\n",
       "[2 rows x 36 columns]"
      ]
     },
     "execution_count": 10,
     "metadata": {},
     "output_type": "execute_result"
    }
   ],
   "source": [
    "covid = pd.read_csv('C:/Users/Data Analyst/Documents/Otros/COVID-19_MX/covid_mx_12_05_20_ac1.csv')\n",
    "covid.head(2)"
   ]
  },
  {
   "cell_type": "code",
   "execution_count": null,
   "metadata": {},
   "outputs": [],
   "source": []
  }
 ],
 "metadata": {
  "kernelspec": {
   "display_name": "Python 3",
   "language": "python",
   "name": "python3"
  },
  "language_info": {
   "codemirror_mode": {
    "name": "ipython",
    "version": 3
   },
   "file_extension": ".py",
   "mimetype": "text/x-python",
   "name": "python",
   "nbconvert_exporter": "python",
   "pygments_lexer": "ipython3",
   "version": "3.7.4"
  }
 },
 "nbformat": 4,
 "nbformat_minor": 2
}
